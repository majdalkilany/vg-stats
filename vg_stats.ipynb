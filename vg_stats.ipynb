{
 "metadata": {
  "language_info": {
   "codemirror_mode": {
    "name": "ipython",
    "version": 3
   },
   "file_extension": ".py",
   "mimetype": "text/x-python",
   "name": "python",
   "nbconvert_exporter": "python",
   "pygments_lexer": "ipython3",
   "version": "3.8.5-final"
  },
  "orig_nbformat": 2,
  "kernelspec": {
   "name": "python38564bitvenvvenv9d46f745547e47848137447366198c8b",
   "display_name": "Python 3.8.5 64-bit ('.venv': venv)"
  }
 },
 "nbformat": 4,
 "nbformat_minor": 2,
 "cells": [
  {
   "cell_type": "markdown",
   "metadata": {},
   "source": [
    "# Data Analysis with Pandas\n"
   ]
  },
  {
   "cell_type": "code",
   "execution_count": 3,
   "metadata": {},
   "outputs": [],
   "source": [
    "import numpy as np \n",
    "import pandas as pd \n"
   ]
  },
  {
   "cell_type": "code",
   "execution_count": 5,
   "metadata": {},
   "outputs": [
    {
     "output_type": "execute_result",
     "data": {
      "text/plain": "   Rank                       Name Platform    Year         Genre Publisher  \\\n0     1                 Wii Sports      Wii  2006.0        Sports  Nintendo   \n1     2          Super Mario Bros.      NES  1985.0      Platform  Nintendo   \n2     3             Mario Kart Wii      Wii  2008.0        Racing  Nintendo   \n3     4          Wii Sports Resort      Wii  2009.0        Sports  Nintendo   \n4     5   Pokemon Red/Pokemon Blue       GB  1996.0  Role-Playing  Nintendo   \n5     6                     Tetris       GB  1989.0        Puzzle  Nintendo   \n6     7      New Super Mario Bros.       DS  2006.0      Platform  Nintendo   \n7     8                   Wii Play      Wii  2006.0          Misc  Nintendo   \n8     9  New Super Mario Bros. Wii      Wii  2009.0      Platform  Nintendo   \n9    10                  Duck Hunt      NES  1984.0       Shooter  Nintendo   \n\n   NA_Sales  EU_Sales  JP_Sales  Other_Sales  Global_Sales  \n0     41.49     29.02      3.77         8.46         82.74  \n1     29.08      3.58      6.81         0.77         40.24  \n2     15.85     12.88      3.79         3.31         35.82  \n3     15.75     11.01      3.28         2.96         33.00  \n4     11.27      8.89     10.22         1.00         31.37  \n5     23.20      2.26      4.22         0.58         30.26  \n6     11.38      9.23      6.50         2.90         30.01  \n7     14.03      9.20      2.93         2.85         29.02  \n8     14.59      7.06      4.70         2.26         28.62  \n9     26.93      0.63      0.28         0.47         28.31  ",
      "text/html": "<div>\n<style scoped>\n    .dataframe tbody tr th:only-of-type {\n        vertical-align: middle;\n    }\n\n    .dataframe tbody tr th {\n        vertical-align: top;\n    }\n\n    .dataframe thead th {\n        text-align: right;\n    }\n</style>\n<table border=\"1\" class=\"dataframe\">\n  <thead>\n    <tr style=\"text-align: right;\">\n      <th></th>\n      <th>Rank</th>\n      <th>Name</th>\n      <th>Platform</th>\n      <th>Year</th>\n      <th>Genre</th>\n      <th>Publisher</th>\n      <th>NA_Sales</th>\n      <th>EU_Sales</th>\n      <th>JP_Sales</th>\n      <th>Other_Sales</th>\n      <th>Global_Sales</th>\n    </tr>\n  </thead>\n  <tbody>\n    <tr>\n      <th>0</th>\n      <td>1</td>\n      <td>Wii Sports</td>\n      <td>Wii</td>\n      <td>2006.0</td>\n      <td>Sports</td>\n      <td>Nintendo</td>\n      <td>41.49</td>\n      <td>29.02</td>\n      <td>3.77</td>\n      <td>8.46</td>\n      <td>82.74</td>\n    </tr>\n    <tr>\n      <th>1</th>\n      <td>2</td>\n      <td>Super Mario Bros.</td>\n      <td>NES</td>\n      <td>1985.0</td>\n      <td>Platform</td>\n      <td>Nintendo</td>\n      <td>29.08</td>\n      <td>3.58</td>\n      <td>6.81</td>\n      <td>0.77</td>\n      <td>40.24</td>\n    </tr>\n    <tr>\n      <th>2</th>\n      <td>3</td>\n      <td>Mario Kart Wii</td>\n      <td>Wii</td>\n      <td>2008.0</td>\n      <td>Racing</td>\n      <td>Nintendo</td>\n      <td>15.85</td>\n      <td>12.88</td>\n      <td>3.79</td>\n      <td>3.31</td>\n      <td>35.82</td>\n    </tr>\n    <tr>\n      <th>3</th>\n      <td>4</td>\n      <td>Wii Sports Resort</td>\n      <td>Wii</td>\n      <td>2009.0</td>\n      <td>Sports</td>\n      <td>Nintendo</td>\n      <td>15.75</td>\n      <td>11.01</td>\n      <td>3.28</td>\n      <td>2.96</td>\n      <td>33.00</td>\n    </tr>\n    <tr>\n      <th>4</th>\n      <td>5</td>\n      <td>Pokemon Red/Pokemon Blue</td>\n      <td>GB</td>\n      <td>1996.0</td>\n      <td>Role-Playing</td>\n      <td>Nintendo</td>\n      <td>11.27</td>\n      <td>8.89</td>\n      <td>10.22</td>\n      <td>1.00</td>\n      <td>31.37</td>\n    </tr>\n    <tr>\n      <th>5</th>\n      <td>6</td>\n      <td>Tetris</td>\n      <td>GB</td>\n      <td>1989.0</td>\n      <td>Puzzle</td>\n      <td>Nintendo</td>\n      <td>23.20</td>\n      <td>2.26</td>\n      <td>4.22</td>\n      <td>0.58</td>\n      <td>30.26</td>\n    </tr>\n    <tr>\n      <th>6</th>\n      <td>7</td>\n      <td>New Super Mario Bros.</td>\n      <td>DS</td>\n      <td>2006.0</td>\n      <td>Platform</td>\n      <td>Nintendo</td>\n      <td>11.38</td>\n      <td>9.23</td>\n      <td>6.50</td>\n      <td>2.90</td>\n      <td>30.01</td>\n    </tr>\n    <tr>\n      <th>7</th>\n      <td>8</td>\n      <td>Wii Play</td>\n      <td>Wii</td>\n      <td>2006.0</td>\n      <td>Misc</td>\n      <td>Nintendo</td>\n      <td>14.03</td>\n      <td>9.20</td>\n      <td>2.93</td>\n      <td>2.85</td>\n      <td>29.02</td>\n    </tr>\n    <tr>\n      <th>8</th>\n      <td>9</td>\n      <td>New Super Mario Bros. Wii</td>\n      <td>Wii</td>\n      <td>2009.0</td>\n      <td>Platform</td>\n      <td>Nintendo</td>\n      <td>14.59</td>\n      <td>7.06</td>\n      <td>4.70</td>\n      <td>2.26</td>\n      <td>28.62</td>\n    </tr>\n    <tr>\n      <th>9</th>\n      <td>10</td>\n      <td>Duck Hunt</td>\n      <td>NES</td>\n      <td>1984.0</td>\n      <td>Shooter</td>\n      <td>Nintendo</td>\n      <td>26.93</td>\n      <td>0.63</td>\n      <td>0.28</td>\n      <td>0.47</td>\n      <td>28.31</td>\n    </tr>\n  </tbody>\n</table>\n</div>"
     },
     "metadata": {},
     "execution_count": 5
    }
   ],
   "source": [
    "df = pd.read_csv('./vgsales.csv')\n",
    "df.head(10)"
   ]
  },
  {
   "cell_type": "markdown",
   "metadata": {},
   "source": [
    "####  Which company is the most common video game publisher?\n",
    "\n",
    " **Electronic Arts**\n",
    "\n",
    "\n"
   ]
  },
  {
   "cell_type": "code",
   "execution_count": 8,
   "metadata": {},
   "outputs": [
    {
     "output_type": "execute_result",
     "data": {
      "text/plain": "0    Electronic Arts\ndtype: object"
     },
     "metadata": {},
     "execution_count": 8
    }
   ],
   "source": [
    "df['Publisher'].mode()\n"
   ]
  },
  {
   "cell_type": "markdown",
   "metadata": {},
   "source": [
    "#### What’s the most common platform?\n",
    " **DS**\n",
    " "
   ]
  },
  {
   "cell_type": "code",
   "execution_count": 9,
   "metadata": {},
   "outputs": [
    {
     "output_type": "execute_result",
     "data": {
      "text/plain": "0    DS\ndtype: object"
     },
     "metadata": {},
     "execution_count": 9
    }
   ],
   "source": [
    "df['Platform'].mode()\n"
   ]
  },
  {
   "cell_type": "markdown",
   "metadata": {},
   "source": [
    "What about the most common genre?\n",
    "Action"
   ]
  },
  {
   "cell_type": "code",
   "execution_count": 10,
   "metadata": {},
   "outputs": [
    {
     "output_type": "execute_result",
     "data": {
      "text/plain": "0    Action\ndtype: object"
     },
     "metadata": {},
     "execution_count": 10
    }
   ],
   "source": [
    "df['Genre'].mode()\n"
   ]
  },
  {
   "cell_type": "markdown",
   "metadata": {},
   "source": [
    "#### What are the top 20 highest grossing games?\n"
   ]
  },
  {
   "cell_type": "code",
   "execution_count": 77,
   "metadata": {},
   "outputs": [
    {
     "output_type": "execute_result",
     "data": {
      "text/plain": "0                                       Wii Sports\n1                                Super Mario Bros.\n2                                   Mario Kart Wii\n3                                Wii Sports Resort\n4                         Pokemon Red/Pokemon Blue\n5                                           Tetris\n6                            New Super Mario Bros.\n7                                         Wii Play\n8                        New Super Mario Bros. Wii\n9                                        Duck Hunt\n10                                      Nintendogs\n11                                   Mario Kart DS\n12                     Pokemon Gold/Pokemon Silver\n13                                         Wii Fit\n14                                    Wii Fit Plus\n15                              Kinect Adventures!\n16                              Grand Theft Auto V\n17                   Grand Theft Auto: San Andreas\n18                               Super Mario World\n19    Brain Age: Train Your Brain in Minutes a Day\nName: Name, dtype: object"
     },
     "metadata": {},
     "execution_count": 77
    }
   ],
   "source": [
    " df[['Name' , 'Global_Sales']].sort_values('Global_Sales',ascending = False).nlargest(20,'Global_Sales')['Name']"
   ]
  },
  {
   "cell_type": "markdown",
   "metadata": {},
   "source": [
    "#### For North American video game sales, what’s the median?\n",
    "0.08"
   ]
  },
  {
   "cell_type": "code",
   "execution_count": 19,
   "metadata": {},
   "outputs": [
    {
     "output_type": "execute_result",
     "data": {
      "text/plain": "NA_Sales    0.08\ndtype: float64"
     },
     "metadata": {},
     "execution_count": 19
    }
   ],
   "source": [
    "df_median = df[['NA_Sales']].median()\n",
    "df_median"
   ]
  },
  {
   "cell_type": "markdown",
   "metadata": {},
   "source": [
    "#### Provide a secondary output showing ten games surrounding the median sales output\n"
   ]
  },
  {
   "cell_type": "code",
   "execution_count": 73,
   "metadata": {},
   "outputs": [
    {
     "output_type": "execute_result",
     "data": {
      "text/plain": "446                      Dragon Warrior IV\n10545                Hunter: The Reckoning\n10533         Dora & Kai-Lan's Pet Shelter\n10532    Hot Wheels: Stunt Track Challenge\n10526                          FIFA Street\n10523                 Colin McRae Rally 04\n10516                  Dora's Cooking Club\n10509                 Blitz: The League II\n10508                   Beyond Good & Evil\n10491                              Syberia\nName: Name, dtype: object"
     },
     "metadata": {},
     "execution_count": 73
    }
   ],
   "source": [
    "df[df['NA_Sales']==0.08].sort_values('NA_Sales' ,ascending = False ).nlargest(10,'NA_Sales')['Name']"
   ]
  },
  {
   "cell_type": "code",
   "execution_count": 83,
   "metadata": {},
   "outputs": [
    {
     "output_type": "execute_result",
     "data": {
      "text/plain": "Name            Wii Sports\nGlobal_Sales         82.74\nNA_Sales             41.49\nName: 0, dtype: object"
     },
     "metadata": {},
     "execution_count": 83
    }
   ],
   "source": [
    " top_sale_game =df[['Name' , 'Global_Sales','NA_Sales']].sort_values('Global_Sales',ascending = False).iloc[0]\n",
    " top_sale_game"
   ]
  },
  {
   "cell_type": "markdown",
   "metadata": {},
   "source": [
    "####  For the top-selling game of all time, how many standard deviations above/below the mean are its sales for North America?\n",
    "\n",
    "50.47898767479108\n"
   ]
  },
  {
   "cell_type": "code",
   "execution_count": 48,
   "metadata": {},
   "outputs": [
    {
     "output_type": "execute_result",
     "data": {
      "text/plain": "41.49"
     },
     "metadata": {},
     "execution_count": 48
    }
   ],
   "source": [
    " \n",
    " top_sale_of_game=top_sale_game['NA_Sales'] \n",
    " top_sale_of_game"
   ]
  },
  {
   "cell_type": "code",
   "execution_count": 45,
   "metadata": {},
   "outputs": [
    {
     "output_type": "execute_result",
     "data": {
      "text/plain": "0.8166830292988796"
     },
     "metadata": {},
     "execution_count": 45
    }
   ],
   "source": [
    "std_north_am = df['NA_Sales'].std()\n",
    "std_north_am"
   ]
  },
  {
   "cell_type": "code",
   "execution_count": 47,
   "metadata": {},
   "outputs": [
    {
     "output_type": "execute_result",
     "data": {
      "text/plain": "0.26466742981082064"
     },
     "metadata": {},
     "execution_count": 47
    }
   ],
   "source": [
    "main_north_am =df['NA_Sales'].mean()\n",
    "main_north_am"
   ]
  },
  {
   "cell_type": "code",
   "execution_count": 50,
   "metadata": {},
   "outputs": [
    {
     "output_type": "execute_result",
     "data": {
      "text/plain": "50.47898767479108"
     },
     "metadata": {},
     "execution_count": 50
    }
   ],
   "source": [
    "standerd_deviation = ((top_sale_of_game-main_north_am)/std_north_am)\n",
    "standerd_deviation"
   ]
  },
  {
   "cell_type": "markdown",
   "metadata": {},
   "source": [
    "#### The Nintendo Wii seems to have outdone itself with games. How does its average number of sales compare with all of the other platforms?\n",
    "\n",
    "1 - we will find all Nintendo wii  and find the averge  then found all other platform and there averge thin compaire it by dviding the nintendo to th all\n",
    "  "
   ]
  },
  {
   "cell_type": "code",
   "execution_count": 62,
   "metadata": {},
   "outputs": [
    {
     "output_type": "execute_result",
     "data": {
      "text/plain": "4.6483333333333325"
     },
     "metadata": {},
     "execution_count": 62
    }
   ],
   "source": [
    "wii= df[df['Platform']=='Wii']\n",
    "nintendo_and_wii =  wii[wii['Publisher']=='Nintendo']\n",
    "nintendo_and_wii_sales_av = nintendo_and_wii['Global_Sales'].mean()\n",
    "nintendo_and_wii_sales_av"
   ]
  },
  {
   "cell_type": "code",
   "execution_count": 63,
   "metadata": {},
   "outputs": [
    {
     "output_type": "execute_result",
     "data": {
      "text/plain": "0.5233896418516336"
     },
     "metadata": {},
     "execution_count": 63
    }
   ],
   "source": [
    "not_wii= df[df['Platform']!='Wii']\n",
    "not_wii_sales_av = not_wii['Global_Sales'].mean()\n",
    "not_wii_sales_av"
   ]
  },
  {
   "cell_type": "code",
   "execution_count": 72,
   "metadata": {},
   "outputs": [
    {
     "output_type": "execute_result",
     "data": {
      "text/plain": "7.881210023355803"
     },
     "metadata": {},
     "execution_count": 72
    }
   ],
   "source": [
    "compare_the_av = (nintendo_and_wii_sales_av - not_wii_sales_av)/not_wii_sales_av\n",
    "compare_the_av"
   ]
  },
  {
   "cell_type": "markdown",
   "metadata": {},
   "source": [
    "What is the  game has the highest sales in Japan?\n"
   ]
  },
  {
   "cell_type": "code",
   "execution_count": 87,
   "metadata": {},
   "outputs": [
    {
     "output_type": "execute_result",
     "data": {
      "text/plain": "                       Name  JP_Sales\n4  Pokemon Red/Pokemon Blue     10.22",
      "text/html": "<div>\n<style scoped>\n    .dataframe tbody tr th:only-of-type {\n        vertical-align: middle;\n    }\n\n    .dataframe tbody tr th {\n        vertical-align: top;\n    }\n\n    .dataframe thead th {\n        text-align: right;\n    }\n</style>\n<table border=\"1\" class=\"dataframe\">\n  <thead>\n    <tr style=\"text-align: right;\">\n      <th></th>\n      <th>Name</th>\n      <th>JP_Sales</th>\n    </tr>\n  </thead>\n  <tbody>\n    <tr>\n      <th>4</th>\n      <td>Pokemon Red/Pokemon Blue</td>\n      <td>10.22</td>\n    </tr>\n  </tbody>\n</table>\n</div>"
     },
     "metadata": {},
     "execution_count": 87
    }
   ],
   "source": [
    "the_most_haeyst_sales_in_japan = df[['Name' ,'JP_Sales']].sort_values('JP_Sales',ascending=False).nlargest(1,'JP_Sales')\n",
    "the_most_haeyst_sales_in_japan"
   ]
  },
  {
   "cell_type": "markdown",
   "metadata": {},
   "source": [
    "What is the 3  most comon platform in Japan?\n"
   ]
  },
  {
   "cell_type": "code",
   "execution_count": 104,
   "metadata": {},
   "outputs": [
    {
     "output_type": "execute_result",
     "data": {
      "text/plain": "0    DS\ndtype: object"
     },
     "metadata": {},
     "execution_count": 104
    }
   ],
   "source": [
    "the_most_comon_platform_japan = df[['Name','Platform','JP_Sales']]['Platform'].mode()\n",
    "the_most_comon_platform_japan"
   ]
  },
  {
   "cell_type": "code",
   "execution_count": null,
   "metadata": {},
   "outputs": [],
   "source": []
  },
  {
   "cell_type": "code",
   "execution_count": 114,
   "metadata": {},
   "outputs": [
    {
     "output_type": "execute_result",
     "data": {
      "text/plain": "                                    Name Platform  JP_Sales         Publisher  \\\n242   Dragon Quest VII: Warriors of Eden       PS       4.1  Enix Corporation   \n1353  Dragon Quest VII: Warriors of Eden      3DS       1.3       Square Enix   \n\n      Global_Sales  \n242           4.47  \n1353          1.42  ",
      "text/html": "<div>\n<style scoped>\n    .dataframe tbody tr th:only-of-type {\n        vertical-align: middle;\n    }\n\n    .dataframe tbody tr th {\n        vertical-align: top;\n    }\n\n    .dataframe thead th {\n        text-align: right;\n    }\n</style>\n<table border=\"1\" class=\"dataframe\">\n  <thead>\n    <tr style=\"text-align: right;\">\n      <th></th>\n      <th>Name</th>\n      <th>Platform</th>\n      <th>JP_Sales</th>\n      <th>Publisher</th>\n      <th>Global_Sales</th>\n    </tr>\n  </thead>\n  <tbody>\n    <tr>\n      <th>242</th>\n      <td>Dragon Quest VII: Warriors of Eden</td>\n      <td>PS</td>\n      <td>4.1</td>\n      <td>Enix Corporation</td>\n      <td>4.47</td>\n    </tr>\n    <tr>\n      <th>1353</th>\n      <td>Dragon Quest VII: Warriors of Eden</td>\n      <td>3DS</td>\n      <td>1.3</td>\n      <td>Square Enix</td>\n      <td>1.42</td>\n    </tr>\n  </tbody>\n</table>\n</div>"
     },
     "metadata": {},
     "execution_count": 114
    }
   ],
   "source": [
    "the_sales_for_Dragon_Quest\t = df[df['Name']=='Dragon Quest VII: Warriors of Eden'][['Name','Platform','JP_Sales','Publisher','Global_Sales']]\n",
    "the_sales_for_Dragon_Quest"
   ]
  },
  {
   "cell_type": "code",
   "execution_count": null,
   "metadata": {},
   "outputs": [],
   "source": []
  }
 ]
}